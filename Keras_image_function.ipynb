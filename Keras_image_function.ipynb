{
  "nbformat": 4,
  "nbformat_minor": 0,
  "metadata": {
    "colab": {
      "name": "Keras_image_function.ipynb",
      "provenance": []
    },
    "kernelspec": {
      "name": "python3",
      "display_name": "Python 3"
    },
    "accelerator": "GPU"
  },
  "cells": [
    {
      "cell_type": "markdown",
      "metadata": {
        "id": "78tLoZS367iB",
        "colab_type": "text"
      },
      "source": [
        "**Loading an image with keras**"
      ]
    },
    {
      "cell_type": "code",
      "metadata": {
        "id": "ML82u0Dj7CLT",
        "colab_type": "code",
        "colab": {
          "base_uri": "https://localhost:8080/",
          "height": 85
        },
        "outputId": "450b35d4-521c-4404-bb12-7e4f44b3f10e"
      },
      "source": [
        "from keras.preprocessing.image import load_img\n",
        "img = load_img('bondi_beach.jpg')\n",
        "print(type(img))\n",
        "print(img.format)\n",
        "print(img.mode)\n",
        "print(img.size)\n",
        "img.show()"
      ],
      "execution_count": 2,
      "outputs": [
        {
          "output_type": "stream",
          "text": [
            "<class 'PIL.JpegImagePlugin.JpegImageFile'>\n",
            "JPEG\n",
            "RGB\n",
            "(640, 427)\n"
          ],
          "name": "stdout"
        }
      ]
    },
    {
      "cell_type": "markdown",
      "metadata": {
        "id": "mGACkTdm7toV",
        "colab_type": "text"
      },
      "source": [
        "## **Converting an image with keras**"
      ]
    },
    {
      "cell_type": "code",
      "metadata": {
        "id": "cEz4WboL7xvO",
        "colab_type": "code",
        "colab": {
          "base_uri": "https://localhost:8080/",
          "height": 85
        },
        "outputId": "8fe470af-991b-4696-a4a5-1d2ddf6b2edd"
      },
      "source": [
        "from keras.preprocessing.image import load_img\n",
        "from keras.preprocessing.image import img_to_array\n",
        "from keras.preprocessing.image import array_to_img\n",
        "# load the image\n",
        "img = load_img('bondi_beach.jpg')\n",
        "print(type(img))\n",
        "# convert to numpy array\n",
        "img_array = img_to_array(img)\n",
        "print(img_array.dtype)\n",
        "print(img_array.shape)\n",
        "# convert back to image\n",
        "img_pil = array_to_img(img_array)\n",
        "print(type(img))"
      ],
      "execution_count": 3,
      "outputs": [
        {
          "output_type": "stream",
          "text": [
            "<class 'PIL.JpegImagePlugin.JpegImageFile'>\n",
            "float32\n",
            "(427, 640, 3)\n",
            "<class 'PIL.JpegImagePlugin.JpegImageFile'>\n"
          ],
          "name": "stdout"
        }
      ]
    },
    {
      "cell_type": "markdown",
      "metadata": {
        "id": "iESyKUUw8BvU",
        "colab_type": "text"
      },
      "source": [
        "## **Saving an image **"
      ]
    },
    {
      "cell_type": "code",
      "metadata": {
        "id": "9bPZDFQA8JXT",
        "colab_type": "code",
        "colab": {
          "base_uri": "https://localhost:8080/",
          "height": 139
        },
        "outputId": "a268f474-a213-45c0-ae72-a79acf3abc18"
      },
      "source": [
        "from keras.preprocessing.image import load_img\n",
        "from keras.preprocessing.image import save_img\n",
        "from keras.preprocessing.image import img_to_array\n",
        "# load image as as grayscale\n",
        "img = load_img('bondi_beach.jpg', grayscale=True)\n",
        "# convert image to a numpy array\n",
        "img_array = img_to_array(img)\n",
        "# save the image with a new filename\n",
        "save_img('bondi_beach_grayscale.jpg', img_array)\n",
        "# load the image to confirm it was saved correctly\n",
        "img = load_img('bondi_beach_grayscale.jpg')\n",
        "print(type(img))\n",
        "print(img.format)\n",
        "print(img.mode)\n",
        "print(img.size)\n",
        "img.show()"
      ],
      "execution_count": 4,
      "outputs": [
        {
          "output_type": "stream",
          "text": [
            "<class 'PIL.Image.Image'>\n",
            "None\n",
            "RGB\n",
            "(640, 427)\n"
          ],
          "name": "stdout"
        },
        {
          "output_type": "stream",
          "text": [
            "/usr/local/lib/python3.6/dist-packages/keras_preprocessing/image/utils.py:104: UserWarning: grayscale is deprecated. Please use color_mode = \"grayscale\"\n",
            "  warnings.warn('grayscale is deprecated. Please use '\n"
          ],
          "name": "stderr"
        }
      ]
    }
  ]
}